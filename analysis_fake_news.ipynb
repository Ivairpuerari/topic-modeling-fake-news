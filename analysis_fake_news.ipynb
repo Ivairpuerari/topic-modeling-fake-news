{
  "nbformat": 4,
  "nbformat_minor": 0,
  "metadata": {
    "colab": {
      "name": "analysis_fake_news.ipynb",
      "provenance": [],
      "collapsed_sections": [],
      "authorship_tag": "ABX9TyN93soT5ZBdIv0PT27yPfUE",
      "include_colab_link": true
    },
    "kernelspec": {
      "name": "python3",
      "display_name": "Python 3"
    }
  },
  "cells": [
    {
      "cell_type": "markdown",
      "metadata": {
        "id": "view-in-github",
        "colab_type": "text"
      },
      "source": [
        "<a href=\"https://colab.research.google.com/github/Ivairpuerari/topic-modeling-fake-news/blob/master/analysis_fake_news.ipynb\" target=\"_parent\"><img src=\"https://colab.research.google.com/assets/colab-badge.svg\" alt=\"Open In Colab\"/></a>"
      ]
    },
    {
      "cell_type": "markdown",
      "metadata": {
        "id": "EQgJM71ApbkX",
        "colab_type": "text"
      },
      "source": [
        "## DataSet\n",
        "\n",
        "This analysis was did about COVID-19 Open Research Dataset Challenge (CORD-19)\n",
        "An AI challenge with AI2, CZI, MSR, Georgetown, NIH & The White House.\n",
        "\n",
        "### Description\n",
        "\n",
        "\n",
        "> In response to the COVID-19 pandemic, the White House and a coalition of leading research groups have prepared the COVID-19 Open Research Dataset (CORD-19). CORD-19 is a resource of over 59,000 scholarly articles, including over 49,000 with full text, about COVID-19, SARS-CoV-2, and related coronaviruses. This freely available dataset is provided to the global research community to apply recent advances in natural language processing and other AI techniques to generate new insights in support of the ongoing fight against this infectious disease. There is a growing urgency for these approaches because of the rapid acceleration in new coronavirus literature, making it difficult for the medical research community to keep up.\n",
        "\n",
        "cite: https://www.kaggle.com/allen-institute-for-ai/CORD-19-research-challenge\n"
      ]
    },
    {
      "cell_type": "markdown",
      "metadata": {
        "id": "242Bh1pIrK7e",
        "colab_type": "text"
      },
      "source": [
        "#Analysis:\n",
        "\n",
        "The first analysis verify the hot-topics about all collection of covid articles.\n",
        "\n",
        "that include five the most important subject.\n",
        "\n",
        "Look at : https://github.com/Ivairpuerari/topic-modeling-covid19\n",
        "\n",
        "The second analisys has target to discover subjects relationship with fake news and misinformation.\n"
      ]
    }
  ]
}